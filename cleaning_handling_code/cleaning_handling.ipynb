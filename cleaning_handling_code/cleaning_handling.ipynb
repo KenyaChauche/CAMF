{
 "cells": [
  {
   "cell_type": "code",
   "execution_count": 40,
   "metadata": {},
   "outputs": [],
   "source": [
    "import pandas as pd\n",
    "import numpy as np \n",
    "\n",
    "from datetime import timedelta\n",
    "from itertools import compress"
   ]
  },
  {
   "cell_type": "code",
   "execution_count": 41,
   "metadata": {},
   "outputs": [],
   "source": [
    "df = pd.read_excel(\"./data/ESO 2020Q1.xls\", header = 2)"
   ]
  },
  {
   "cell_type": "code",
   "execution_count": 42,
   "metadata": {},
   "outputs": [],
   "source": [
    "# create dictionary of trimmed incident type numbers\n",
    "\n",
    "incident_types = {\n",
    "    100 : \"Fire\", \n",
    "    200 : \"Overpressure explosion, overheat - no fire\", \n",
    "    300 : \"Rescue and EMS incidents\", \n",
    "    400 : \"Hazardous Conditions - no fire\", \n",
    "    500 : \"Service Call\", \n",
    "    600 : \"Good intent calls\", \n",
    "    700 : \"False alarms and false calls\", \n",
    "    800 : \"Severe Weather and natural disaster\", \n",
    "    900 : \"Special incident type\"\n",
    "}"
   ]
  },
  {
   "cell_type": "code",
   "execution_count": 43,
   "metadata": {},
   "outputs": [
    {
     "data": {
      "text/html": [
       "<div>\n",
       "<style scoped>\n",
       "    .dataframe tbody tr th:only-of-type {\n",
       "        vertical-align: middle;\n",
       "    }\n",
       "\n",
       "    .dataframe tbody tr th {\n",
       "        vertical-align: top;\n",
       "    }\n",
       "\n",
       "    .dataframe thead th {\n",
       "        text-align: right;\n",
       "    }\n",
       "</style>\n",
       "<table border=\"1\" class=\"dataframe\">\n",
       "  <thead>\n",
       "    <tr style=\"text-align: right;\">\n",
       "      <th></th>\n",
       "      <th>Incident Number</th>\n",
       "      <th>Alarm Date</th>\n",
       "      <th>Station</th>\n",
       "      <th>Actions Taken</th>\n",
       "      <th>Aid Given Or Received</th>\n",
       "      <th>Address</th>\n",
       "      <th>Apparatus Name</th>\n",
       "      <th>PSAP Received Date</th>\n",
       "      <th>Dispatched Date</th>\n",
       "      <th>En Route Date</th>\n",
       "      <th>...</th>\n",
       "      <th>Clear Date</th>\n",
       "      <th>Personnel Count</th>\n",
       "      <th>Priority</th>\n",
       "      <th>Type of Response Delay</th>\n",
       "      <th>Is Cancelled Prior To Arrival</th>\n",
       "      <th>Incident Type</th>\n",
       "      <th>Incident Type Code</th>\n",
       "      <th>Shift</th>\n",
       "      <th>Longitude</th>\n",
       "      <th>Latitude</th>\n",
       "    </tr>\n",
       "  </thead>\n",
       "  <tbody>\n",
       "    <tr>\n",
       "      <th>0</th>\n",
       "      <td>20-0324</td>\n",
       "      <td>2020-02-13 15:26:37</td>\n",
       "      <td>1-3</td>\n",
       "      <td>Assist physically disabled</td>\n",
       "      <td>None</td>\n",
       "      <td>1237   GERDES,   Camano Island, Washington</td>\n",
       "      <td>AID103</td>\n",
       "      <td>2020-02-13 15:25:56</td>\n",
       "      <td>2020-02-13 15:26:37</td>\n",
       "      <td>2020-02-13 15:26:58</td>\n",
       "      <td>...</td>\n",
       "      <td>2020-02-13 15:42:29</td>\n",
       "      <td>2.0</td>\n",
       "      <td>Non-Emergent</td>\n",
       "      <td>NaN</td>\n",
       "      <td>NaN</td>\n",
       "      <td>Assist invalid</td>\n",
       "      <td>554.0</td>\n",
       "      <td>Day</td>\n",
       "      <td>-122.471857</td>\n",
       "      <td>48.255921</td>\n",
       "    </tr>\n",
       "    <tr>\n",
       "      <th>1</th>\n",
       "      <td>20-0345</td>\n",
       "      <td>2020-02-17 02:15:28</td>\n",
       "      <td>1-2</td>\n",
       "      <td>Provide first aid &amp; check for injuries</td>\n",
       "      <td>None</td>\n",
       "      <td>1467   RIDGE,   Camano Island, Washington</td>\n",
       "      <td>AID103</td>\n",
       "      <td>2020-02-17 02:13:58</td>\n",
       "      <td>2020-02-17 02:15:28</td>\n",
       "      <td>2020-02-17 02:17:06</td>\n",
       "      <td>...</td>\n",
       "      <td>2020-02-17 02:56:01</td>\n",
       "      <td>2.0</td>\n",
       "      <td>Emergent</td>\n",
       "      <td>NaN</td>\n",
       "      <td>NaN</td>\n",
       "      <td>EMS call, excluding vehicle accident with injury</td>\n",
       "      <td>321.0</td>\n",
       "      <td>B Shift</td>\n",
       "      <td>-122.487304</td>\n",
       "      <td>48.157416</td>\n",
       "    </tr>\n",
       "    <tr>\n",
       "      <th>2</th>\n",
       "      <td>20-0345</td>\n",
       "      <td>2020-02-17 02:15:28</td>\n",
       "      <td>1-2</td>\n",
       "      <td>Provide first aid &amp; check for injuries</td>\n",
       "      <td>None</td>\n",
       "      <td>1467   RIDGE,   Camano Island, Washington</td>\n",
       "      <td>MED102</td>\n",
       "      <td>2020-02-17 02:13:58</td>\n",
       "      <td>2020-02-17 02:15:28</td>\n",
       "      <td>2020-02-17 02:16:08</td>\n",
       "      <td>...</td>\n",
       "      <td>2020-02-17 02:56:01</td>\n",
       "      <td>2.0</td>\n",
       "      <td>Emergent</td>\n",
       "      <td>NaN</td>\n",
       "      <td>NaN</td>\n",
       "      <td>EMS call, excluding vehicle accident with injury</td>\n",
       "      <td>321.0</td>\n",
       "      <td>B Shift</td>\n",
       "      <td>-122.487304</td>\n",
       "      <td>48.157416</td>\n",
       "    </tr>\n",
       "    <tr>\n",
       "      <th>3</th>\n",
       "      <td>20-0371</td>\n",
       "      <td>2020-02-21 19:32:35</td>\n",
       "      <td>1-4</td>\n",
       "      <td>Provide basic life support (BLS) Transport per...</td>\n",
       "      <td>None</td>\n",
       "      <td>731   CHERYL ANN,   Camano Island, Washington</td>\n",
       "      <td>AID103</td>\n",
       "      <td>2020-02-21 19:31:50</td>\n",
       "      <td>2020-02-21 19:32:35</td>\n",
       "      <td>2020-02-21 19:33:32</td>\n",
       "      <td>...</td>\n",
       "      <td>2020-02-21 21:03:42</td>\n",
       "      <td>2.0</td>\n",
       "      <td>Emergent</td>\n",
       "      <td>None/No Delay</td>\n",
       "      <td>NaN</td>\n",
       "      <td>EMS call, excluding vehicle accident with injury</td>\n",
       "      <td>321.0</td>\n",
       "      <td>B Shift</td>\n",
       "      <td>-122.523413</td>\n",
       "      <td>48.186637</td>\n",
       "    </tr>\n",
       "    <tr>\n",
       "      <th>4</th>\n",
       "      <td>20-0371</td>\n",
       "      <td>2020-02-21 19:32:35</td>\n",
       "      <td>1-4</td>\n",
       "      <td>Provide basic life support (BLS) Transport per...</td>\n",
       "      <td>None</td>\n",
       "      <td>731   CHERYL ANN,   Camano Island, Washington</td>\n",
       "      <td>E14</td>\n",
       "      <td>2020-02-21 19:31:50</td>\n",
       "      <td>2020-02-21 19:32:35</td>\n",
       "      <td>2020-02-21 19:33:51</td>\n",
       "      <td>...</td>\n",
       "      <td>2020-02-21 19:57:37</td>\n",
       "      <td>3.0</td>\n",
       "      <td>Emergent</td>\n",
       "      <td>None/No Delay</td>\n",
       "      <td>NaN</td>\n",
       "      <td>EMS call, excluding vehicle accident with injury</td>\n",
       "      <td>321.0</td>\n",
       "      <td>B Shift</td>\n",
       "      <td>-122.523413</td>\n",
       "      <td>48.186637</td>\n",
       "    </tr>\n",
       "  </tbody>\n",
       "</table>\n",
       "<p>5 rows × 21 columns</p>\n",
       "</div>"
      ],
      "text/plain": [
       "  Incident Number          Alarm Date Station  \\\n",
       "0         20-0324 2020-02-13 15:26:37     1-3   \n",
       "1         20-0345 2020-02-17 02:15:28     1-2   \n",
       "2         20-0345 2020-02-17 02:15:28     1-2   \n",
       "3         20-0371 2020-02-21 19:32:35     1-4   \n",
       "4         20-0371 2020-02-21 19:32:35     1-4   \n",
       "\n",
       "                                       Actions Taken Aid Given Or Received  \\\n",
       "0                     Assist physically disabled                      None   \n",
       "1         Provide first aid & check for injuries                      None   \n",
       "2         Provide first aid & check for injuries                      None   \n",
       "3  Provide basic life support (BLS) Transport per...                  None   \n",
       "4  Provide basic life support (BLS) Transport per...                  None   \n",
       "\n",
       "                                         Address Apparatus Name  \\\n",
       "0     1237   GERDES,   Camano Island, Washington         AID103   \n",
       "1      1467   RIDGE,   Camano Island, Washington         AID103   \n",
       "2      1467   RIDGE,   Camano Island, Washington         MED102   \n",
       "3  731   CHERYL ANN,   Camano Island, Washington         AID103   \n",
       "4  731   CHERYL ANN,   Camano Island, Washington            E14   \n",
       "\n",
       "   PSAP Received Date     Dispatched Date       En Route Date  ...  \\\n",
       "0 2020-02-13 15:25:56 2020-02-13 15:26:37 2020-02-13 15:26:58  ...   \n",
       "1 2020-02-17 02:13:58 2020-02-17 02:15:28 2020-02-17 02:17:06  ...   \n",
       "2 2020-02-17 02:13:58 2020-02-17 02:15:28 2020-02-17 02:16:08  ...   \n",
       "3 2020-02-21 19:31:50 2020-02-21 19:32:35 2020-02-21 19:33:32  ...   \n",
       "4 2020-02-21 19:31:50 2020-02-21 19:32:35 2020-02-21 19:33:51  ...   \n",
       "\n",
       "           Clear Date Personnel Count      Priority Type of Response Delay  \\\n",
       "0 2020-02-13 15:42:29             2.0  Non-Emergent                    NaN   \n",
       "1 2020-02-17 02:56:01             2.0      Emergent                    NaN   \n",
       "2 2020-02-17 02:56:01             2.0      Emergent                    NaN   \n",
       "3 2020-02-21 21:03:42             2.0      Emergent          None/No Delay   \n",
       "4 2020-02-21 19:57:37             3.0      Emergent          None/No Delay   \n",
       "\n",
       "  Is Cancelled Prior To Arrival  \\\n",
       "0                           NaN   \n",
       "1                           NaN   \n",
       "2                           NaN   \n",
       "3                           NaN   \n",
       "4                           NaN   \n",
       "\n",
       "                                      Incident Type Incident Type Code  \\\n",
       "0                                    Assist invalid              554.0   \n",
       "1  EMS call, excluding vehicle accident with injury              321.0   \n",
       "2  EMS call, excluding vehicle accident with injury              321.0   \n",
       "3  EMS call, excluding vehicle accident with injury              321.0   \n",
       "4  EMS call, excluding vehicle accident with injury              321.0   \n",
       "\n",
       "     Shift   Longitude   Latitude  \n",
       "0      Day -122.471857  48.255921  \n",
       "1  B Shift -122.487304  48.157416  \n",
       "2  B Shift -122.487304  48.157416  \n",
       "3  B Shift -122.523413  48.186637  \n",
       "4  B Shift -122.523413  48.186637  \n",
       "\n",
       "[5 rows x 21 columns]"
      ]
     },
     "execution_count": 43,
     "metadata": {},
     "output_type": "execute_result"
    }
   ],
   "source": [
    "df.head()"
   ]
  },
  {
   "cell_type": "code",
   "execution_count": 44,
   "metadata": {},
   "outputs": [
    {
     "data": {
      "text/plain": [
       "Incident Number                          object\n",
       "Alarm Date                       datetime64[ns]\n",
       "Station                                  object\n",
       "Actions Taken                            object\n",
       "Aid Given Or Received                    object\n",
       "Address                                  object\n",
       "Apparatus Name                           object\n",
       "PSAP Received Date               datetime64[ns]\n",
       "Dispatched Date                  datetime64[ns]\n",
       "En Route Date                    datetime64[ns]\n",
       "Arrival Date                     datetime64[ns]\n",
       "Clear Date                       datetime64[ns]\n",
       "Personnel Count                         float64\n",
       "Priority                                 object\n",
       "Type of Response Delay                   object\n",
       "Is Cancelled Prior To Arrival            object\n",
       "Incident Type                            object\n",
       "Incident Type Code                      float64\n",
       "Shift                                    object\n",
       "Longitude                               float64\n",
       "Latitude                                float64\n",
       "dtype: object"
      ]
     },
     "execution_count": 44,
     "metadata": {},
     "output_type": "execute_result"
    }
   ],
   "source": [
    "df.dtypes"
   ]
  },
  {
   "cell_type": "code",
   "execution_count": 45,
   "metadata": {},
   "outputs": [
    {
     "data": {
      "text/plain": [
       "Incident Number                     2\n",
       "Alarm Date                          2\n",
       "Station                             2\n",
       "Actions Taken                       2\n",
       "Aid Given Or Received               2\n",
       "Address                             2\n",
       "Apparatus Name                      2\n",
       "PSAP Received Date                  2\n",
       "Dispatched Date                     2\n",
       "En Route Date                      40\n",
       "Arrival Date                      258\n",
       "Clear Date                          2\n",
       "Personnel Count                     2\n",
       "Priority                            2\n",
       "Type of Response Delay           1202\n",
       "Is Cancelled Prior To Arrival    1063\n",
       "Incident Type                       2\n",
       "Incident Type Code                  2\n",
       "Shift                               2\n",
       "Longitude                          14\n",
       "Latitude                           14\n",
       "dtype: int64"
      ]
     },
     "execution_count": 45,
     "metadata": {},
     "output_type": "execute_result"
    }
   ],
   "source": [
    "df.isnull().sum()"
   ]
  },
  {
   "cell_type": "code",
   "execution_count": 46,
   "metadata": {},
   "outputs": [],
   "source": [
    "df = df[df[\"Incident Number\"].isnull() == False].copy()"
   ]
  },
  {
   "cell_type": "code",
   "execution_count": 47,
   "metadata": {},
   "outputs": [],
   "source": [
    "# calculate time lapse intervals for incidents\n",
    "\n",
    "df[\"Turn Out Time Elapsed\"] = df[\"En Route Date\"] - df[\"Dispatched Date\"]\n",
    "\n",
    "df[\"Travel Time Elapsed\"] = df[\"Arrival Date\"] - df[\"En Route Date\"]\n",
    "\n",
    "df[\"Response Time Elapsed\"] = df[\"Arrival Date\"] - df[\"Dispatched Date\"]\n",
    "\n",
    "df[\"Onsite Time Elapsed\"] = df[\"Clear Date\"] - df[\"Arrival Date\"]\n",
    "\n",
    "df[\"Total Incident Time Elapsed\"] = sum([df[\"Turn Out Time Elapsed\"], df[\"Travel Time Elapsed\"], df[\"Onsite Time Elapsed\"]])\n"
   ]
  },
  {
   "cell_type": "code",
   "execution_count": 48,
   "metadata": {},
   "outputs": [],
   "source": [
    "# get trimmed incident type code\n",
    "\n",
    "df[\"Incident Type Code Trimmed\"] = [int(str(df[\"Incident Type Code\"][i])[0] + \"00\") for i in df.index]\n",
    "\n",
    "df[\"Incident Type Trimmed\"] = [incident_types[i] for i in df[\"Incident Type Code Trimmed\"]]"
   ]
  },
  {
   "cell_type": "code",
   "execution_count": 49,
   "metadata": {},
   "outputs": [],
   "source": [
    "# note turn out times that meet goal \n",
    "df[\"Unit Turn Out Goal Met\"] = [\"YES\" if df[\"Response Time Elapsed\"][i] <= timedelta(minutes = 9, seconds = 30) else \"NO\" for i in df.index]"
   ]
  },
  {
   "cell_type": "code",
   "execution_count": 50,
   "metadata": {},
   "outputs": [],
   "source": [
    "# adding columns for elapsed time that is only in seconds \n",
    "# Tableau is dumb, and wigs out with elapses of time longer than 24 hours \n",
    "# work arounds need elapsed time to be in seconds in the dataset\n",
    "\n",
    "df[\"Turn Out Time Elapsed (seconds)\"] = [pd.Timedelta(df[\"Turn Out Time Elapsed\"][n]).seconds for n in df.index]\n",
    "\n",
    "df[\"Travel Time Elapsed (seconds)\"] = [pd.Timedelta(df[\"Travel Time Elapsed\"][n]).seconds for n in df.index]\n",
    "\n",
    "df[\"Response Time Elapsed (seconds)\"] = [pd.Timedelta(df[\"Response Time Elapsed\"][n]).seconds for n in df.index]\n",
    "\n",
    "df[\"Onsite Time Elapsed (seconds)\"] = [pd.Timedelta(df[\"Onsite Time Elapsed\"][n]).seconds for n in df.index]\n",
    "\n",
    "df[\"Total Incident Time Elapsed (seconds)\"] = [pd.Timedelta(df[\"Total Incident Time Elapsed\"][n]).seconds for n in df.index]"
   ]
  },
  {
   "cell_type": "code",
   "execution_count": 51,
   "metadata": {},
   "outputs": [],
   "source": [
    "# identify unit number with fastest response time \n",
    "fos_units = {}\n",
    "\n",
    "for i in df['Incident Number']: \n",
    "    time_list = list(df[df['Incident Number'] == i]['Turn Out Time Elapsed (seconds)'])\n",
    "    bool_list = [not b for b in list(np.isnan(time_list))]\n",
    "    time_list = list(compress(time_list, bool_list))\n",
    "    try: \n",
    "        min_time = min(time_list)\n",
    "    except: \n",
    "        min_time = None\n",
    "    unit = df[(df[\"Turn Out Time Elapsed (seconds)\"] == min_time) & (df['Incident Number'] == i)][\"Apparatus Name\"].to_numpy()\n",
    "    fos_units[i] = unit"
   ]
  },
  {
   "cell_type": "code",
   "execution_count": 52,
   "metadata": {},
   "outputs": [
    {
     "data": {
      "text/plain": [
       "'AID103'"
      ]
     },
     "execution_count": 52,
     "metadata": {},
     "output_type": "execute_result"
    }
   ],
   "source": [
    "fos_units['20-0324'][0]"
   ]
  },
  {
   "cell_type": "code",
   "execution_count": 72,
   "metadata": {},
   "outputs": [],
   "source": [
    "# note first on scene unit\n",
    "\n",
    "filler = [0 for i in df.index]\n",
    "\n",
    "df[\"FOS unit\"] = filler\n",
    "\n",
    "for i in df.index: \n",
    "    inum = df.loc[i, 'Incident Number']\n",
    "    try: \n",
    "        df.loc[i, 'FOS unit'] = fos_units[inum][0]\n",
    "    except: \n",
    "        df.loc[i, 'FOS unit'] = np.nan"
   ]
  },
  {
   "cell_type": "code",
   "execution_count": 75,
   "metadata": {},
   "outputs": [],
   "source": [
    "# note times of first on scene for each incident\n",
    "\n",
    "df[\"FOS Turn Out (seconds)\"] = filler\n",
    "df[\"FOS Response Time Elapsed (seconds)\"] = filler\n",
    "df[\"FOS Travel Time Elapsed (seconds)\"] = filler\n",
    "\n",
    "for i in df.index: \n",
    "    inum = df.loc[i, 'Incident Number']\n",
    "    try: \n",
    "        df.loc[i, 'FOS Turn Out (seconds)'] = df[(df['Incident Number'] == inum) & \n",
    "                                             (df['Apparatus Name'] == fos_units[inum][0])]['Turn Out Time Elapsed (seconds)'].to_numpy()[0]\n",
    "    except: \n",
    "        df.loc[i, 'FOS Turn Out (seconds)'] = np.nan\n",
    "    try: \n",
    "        df.loc[i, 'FOS Response Time Elapsed (seconds)'] = df[(df['Incident Number'] == inum) & \n",
    "                                                         (df['Apparatus Name'] == fos_units[inum][0])]['Response Time Elapsed (seconds)'].to_numpy()[0]\n",
    "    except: \n",
    "        df.loc[i, 'FOS Response Time Elapsed (seconds)'] = np.nan\n",
    "    try: \n",
    "        df.loc[i, 'FOS Travel Time Elapsed (seconds)'] = df[(df['Incident Number'] == inum) & \n",
    "                                                       (df['Apparatus Name'] == fos_units[inum][0])]['Travel Time Elapsed (seconds)'].to_numpy()[0]    \n",
    "    except: \n",
    "        df.loc[i, 'FOS Travel Time Elapsed (seconds)'] = np.nan\n"
   ]
  },
  {
   "cell_type": "code",
   "execution_count": 79,
   "metadata": {},
   "outputs": [],
   "source": [
    "# turn out goal met per incident\n",
    "goal = 9 * 60 + 30\n",
    "df[\"Incident Turn Out Goal Met\"] = [\"YES\" if df[\"FOS Response Time Elapsed (seconds)\"][i] <= goal else \"NO\" for i in df.index]"
   ]
  },
  {
   "cell_type": "code",
   "execution_count": 81,
   "metadata": {},
   "outputs": [],
   "source": [
    "# export\n",
    "\n",
    "df.to_excel(\"./data/ESO 2020Q1_cleaned.xlsx\")"
   ]
  },
  {
   "cell_type": "code",
   "execution_count": 102,
   "metadata": {},
   "outputs": [],
   "source": [
    "emergent_goal_met = sum(df[df['Priority'] == 'Emergent']['FOS Response Time Elapsed (seconds)'] <= goal)\n",
    "emergent_goal_unmet = sum(df[df['Priority'] == 'Emergent']['FOS Response Time Elapsed (seconds)'] > goal)\n",
    "emergent_nulls = len(df[(df['Priority'] == 'Emergent') & (df['FOS Response Time Elapsed (seconds)'].isnull())]['FOS Response Time Elapsed (seconds)'])\n",
    "\n",
    "emergent_total = len(df[df['Priority'] == 'Emergent']['FOS Response Time Elapsed (seconds)'])"
   ]
  },
  {
   "cell_type": "code",
   "execution_count": 127,
   "metadata": {},
   "outputs": [
    {
     "data": {
      "text/plain": [
       "881"
      ]
     },
     "execution_count": 127,
     "metadata": {},
     "output_type": "execute_result"
    }
   ],
   "source": [
    "emergent_goal_met + emergent_goal_unmet + emergent_nulls"
   ]
  },
  {
   "cell_type": "code",
   "execution_count": 129,
   "metadata": {},
   "outputs": [
    {
     "data": {
      "text/plain": [
       "881"
      ]
     },
     "execution_count": 129,
     "metadata": {},
     "output_type": "execute_result"
    }
   ],
   "source": [
    "emergent_total"
   ]
  },
  {
   "cell_type": "code",
   "execution_count": 128,
   "metadata": {},
   "outputs": [
    {
     "data": {
      "text/plain": [
       "0.36095346197502837"
      ]
     },
     "execution_count": 128,
     "metadata": {},
     "output_type": "execute_result"
    }
   ],
   "source": [
    "emergent_goal_unmet/emergent_total"
   ]
  },
  {
   "cell_type": "code",
   "execution_count": 130,
   "metadata": {},
   "outputs": [
    {
     "data": {
      "text/plain": [
       "0.5017026106696936"
      ]
     },
     "execution_count": 130,
     "metadata": {},
     "output_type": "execute_result"
    }
   ],
   "source": [
    "emergent_goal_met/emergent_total"
   ]
  },
  {
   "cell_type": "code",
   "execution_count": 131,
   "metadata": {},
   "outputs": [
    {
     "data": {
      "text/plain": [
       "0.5815789473684211"
      ]
     },
     "execution_count": 131,
     "metadata": {},
     "output_type": "execute_result"
    }
   ],
   "source": [
    "emergent_goal_met/(emergent_total - emergent_nulls)"
   ]
  },
  {
   "cell_type": "code",
   "execution_count": 132,
   "metadata": {},
   "outputs": [
    {
     "data": {
      "text/plain": [
       "0.41842105263157897"
      ]
     },
     "execution_count": 132,
     "metadata": {},
     "output_type": "execute_result"
    }
   ],
   "source": [
    "emergent_goal_unmet/(emergent_total - emergent_nulls)"
   ]
  },
  {
   "cell_type": "code",
   "execution_count": 135,
   "metadata": {},
   "outputs": [
    {
     "data": {
      "text/plain": [
       "344"
      ]
     },
     "execution_count": 135,
     "metadata": {},
     "output_type": "execute_result"
    }
   ],
   "source": [
    "len(df[df['Priority'] == 'Emergent']['Incident Number'].unique())"
   ]
  },
  {
   "cell_type": "code",
   "execution_count": 136,
   "metadata": {},
   "outputs": [
    {
     "data": {
      "text/plain": [
       "881"
      ]
     },
     "execution_count": 136,
     "metadata": {},
     "output_type": "execute_result"
    }
   ],
   "source": [
    "len(df[df['Priority'] == 'Emergent']['Incident Number'])"
   ]
  },
  {
   "cell_type": "code",
   "execution_count": null,
   "metadata": {},
   "outputs": [],
   "source": []
  }
 ],
 "metadata": {
  "kernelspec": {
   "display_name": "Python 3",
   "language": "python",
   "name": "python3"
  },
  "language_info": {
   "codemirror_mode": {
    "name": "ipython",
    "version": 3
   },
   "file_extension": ".py",
   "mimetype": "text/x-python",
   "name": "python",
   "nbconvert_exporter": "python",
   "pygments_lexer": "ipython3",
   "version": "3.7.4"
  }
 },
 "nbformat": 4,
 "nbformat_minor": 2
}
